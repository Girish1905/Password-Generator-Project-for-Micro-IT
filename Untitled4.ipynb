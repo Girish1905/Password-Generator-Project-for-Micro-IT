{
  "nbformat": 4,
  "nbformat_minor": 0,
  "metadata": {
    "colab": {
      "provenance": [],
      "authorship_tag": "ABX9TyPIgjn9/gv6GCus3z/mFshF",
      "include_colab_link": true
    },
    "kernelspec": {
      "name": "python3",
      "display_name": "Python 3"
    },
    "language_info": {
      "name": "python"
    }
  },
  "cells": [
    {
      "cell_type": "markdown",
      "metadata": {
        "id": "view-in-github",
        "colab_type": "text"
      },
      "source": [
        "<a href=\"https://colab.research.google.com/github/Girish1905/Password-Generator-Project-for-Micro-IT/blob/main/Untitled4.ipynb\" target=\"_parent\"><img src=\"https://colab.research.google.com/assets/colab-badge.svg\" alt=\"Open In Colab\"/></a>"
      ]
    },
    {
      "cell_type": "code",
      "execution_count": null,
      "metadata": {
        "id": "4YTrd5J2k3Jq"
      },
      "outputs": [],
      "source": [
        "import javax.swing.*;\n",
        "import java.awt.event.*;\n",
        "import java.util.Random;\n",
        "\n",
        "public class PasswordGenerator {\n",
        "    public static void main(String[] args) {\n",
        "        JFrame frame = new JFrame(\"Password Generator\");\n",
        "        frame.setSize(350, 200);\n",
        "        frame.setDefaultCloseOperation(JFrame.EXIT_ON_CLOSE);\n",
        "        frame.setLayout(null);\n",
        "\n",
        "        JLabel label = new JLabel(\"Password Length:\");\n",
        "        label.setBounds(20, 20, 120, 25);\n",
        "        frame.add(label);\n",
        "\n",
        "        JTextField lengthField = new JTextField();\n",
        "        lengthField.setBounds(150, 20, 150, 25);\n",
        "        frame.add(lengthField);\n",
        "\n",
        "        JButton generateButton = new JButton(\"Generate\");\n",
        "        generateButton.setBounds(100, 60, 120, 30);\n",
        "        frame.add(generateButton);\n",
        "\n",
        "        JTextField resultField = new JTextField();\n",
        "        resultField.setBounds(20, 110, 280, 25);\n",
        "        resultField.setEditable(false);\n",
        "        frame.add(resultField);\n",
        "\n",
        "        generateButton.addActionListener(new ActionListener() {\n",
        "            public void actionPerformed(ActionEvent e) {\n",
        "                try {\n",
        "                    int length = Integer.parseInt(lengthField.getText());\n",
        "                    resultField.setText(generatePassword(length));\n",
        "                } catch (NumberFormatException ex) {\n",
        "                    resultField.setText(\"Enter a valid number\");\n",
        "                }\n",
        "            }\n",
        "        });\n",
        "\n",
        "        frame.setVisible(true);\n",
        "    }\n",
        "\n",
        "    private static String generatePassword(int length) {\n",
        "        String chars = \"ABCDEFGHIJKLMNOPQRSTUVWXYZabcdefghijklmnopqrstuvwxyz0123456789\";\n",
        "        StringBuilder password = new StringBuilder();\n",
        "        Random rand = new Random();\n",
        "        for (int i = 0; i < length; i++) {\n",
        "            password.append(chars.charAt(rand.nextInt(chars.length())));\n",
        "        }\n",
        "        return password.toString();\n",
        "    }\n",
        "}"
      ]
    }
  ]
}